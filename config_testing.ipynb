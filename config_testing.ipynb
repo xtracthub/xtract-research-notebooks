{
 "cells": [
  {
   "cell_type": "code",
   "execution_count": 6,
   "metadata": {},
   "outputs": [],
   "source": [
    "import mdf_toolbox\n",
    "import requests\n",
    "\n",
    "fx_eid = \"ff24c520-a419-45ba-a96c-5e6091878df0\"\n",
    "config_route = f\"http://127.0.0.1:5000/configure_ep/{fx_eid}\""
   ]
  },
  {
   "cell_type": "code",
   "execution_count": 7,
   "metadata": {},
   "outputs": [
    {
     "name": "stdout",
     "output_type": "stream",
     "text": [
      "{'search': <globus_sdk.search.client.SearchClient object at 0x7f9b790d3730>, 'data_mdf': <globus_sdk.authorizers.refresh_token.RefreshTokenAuthorizer object at 0x7f9bc84e3ac0>, 'petrel': <globus_sdk.authorizers.refresh_token.RefreshTokenAuthorizer object at 0x7f9b78fd8af0>, 'dlhub': <globus_sdk.authorizers.refresh_token.RefreshTokenAuthorizer object at 0x7f9b78fd8580>, 'transfer': <globus_sdk.transfer.client.TransferClient object at 0x7f9b78fd87c0>, 'https://auth.globus.org/scopes/facd7ccc-c5f4-42aa-916b-a0e270e2c2a9/all': <globus_sdk.authorizers.refresh_token.RefreshTokenAuthorizer object at 0x7f9b78fd8e80>, 'openid': <globus_sdk.authorizers.refresh_token.RefreshTokenAuthorizer object at 0x7f9b78fd8790>}\n"
     ]
    }
   ],
   "source": [
    "auths = mdf_toolbox.login(\n",
    "    services=[\n",
    "        \"openid\",\n",
    "        \"data_mdf\",\n",
    "        \"search\",\n",
    "        \"petrel\",\n",
    "        \"transfer\",\n",
    "        \"dlhub\",\n",
    "        \"https://auth.globus.org/scopes/facd7ccc-c5f4-42aa-916b-a0e270e2c2a9/all\",\n",
    "    ],\n",
    "    app_name=\"Foundry\",\n",
    "    make_clients=True,\n",
    "    no_browser=False,\n",
    "    no_local_server=False,\n",
    "    # force=True\n",
    ")\n",
    "\n",
    "# print(auths['search'])\n",
    "# print(dir(auths['search']))\n",
    "\n",
    "print(auths)\n",
    "fx_scope = 'https://auth.globus.org/scopes/facd7ccc-c5f4-42aa-916b-a0e270e2c2a9/all'\n",
    "headers = {'Authorization': f\"Bearer {auths['petrel']}\", 'Transfer': auths['transfer'], 'FuncX': auths[fx_scope], 'Petrel': auths['petrel']}\n",
    "fx_headers = {'Authorization': f\"Bearer {auths[fx_scope].access_token}\", \n",
    "             'Search': auths['search'].authorizer.access_token, \n",
    "             'Openid': auths['openid'].access_token}"
   ]
  },
  {
   "cell_type": "code",
   "execution_count": 9,
   "metadata": {},
   "outputs": [
    {
     "name": "stdout",
     "output_type": "stream",
     "text": [
      "b'{\"config_status\":\"SUCCESS\",\"fx_eid\":\"ff24c520-a419-45ba-a96c-5e6091878df0\"}\\n'\n"
     ]
    }
   ],
   "source": [
    "the_json = {'headers': fx_headers, \n",
    "        'timeout': 10,\n",
    "        'ep_name': 'goob1',\n",
    "        'globus_eid': 'globus_eid', \n",
    "        'xtract_path': '/home/tskluzac/.xtract', \n",
    "        'local_download_path': '/home/tskluzac',\n",
    "        'local_mdata_path': 'local_mdata_path'\n",
    "       }\n",
    "req = requests.post(config_route, json=the_json)\n",
    "print(req.content)"
   ]
  },
  {
   "cell_type": "code",
   "execution_count": null,
   "metadata": {},
   "outputs": [],
   "source": []
  }
 ],
 "metadata": {
  "kernelspec": {
   "display_name": "tyler_graphing",
   "language": "python",
   "name": "tyler_graphing"
  },
  "language_info": {
   "codemirror_mode": {
    "name": "ipython",
    "version": 3
   },
   "file_extension": ".py",
   "mimetype": "text/x-python",
   "name": "python",
   "nbconvert_exporter": "python",
   "pygments_lexer": "ipython3",
   "version": "3.9.1"
  }
 },
 "nbformat": 4,
 "nbformat_minor": 4
}
