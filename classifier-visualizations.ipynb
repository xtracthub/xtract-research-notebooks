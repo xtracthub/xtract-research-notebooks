{
 "cells": [
  {
   "cell_type": "markdown",
   "id": "a5b1e907",
   "metadata": {},
   "source": [
    "# Importing the classifier pickle\n",
    "NOTE: pickle must contain the trained __classifier__, not just the model."
   ]
  },
  {
   "cell_type": "code",
   "execution_count": 16,
   "id": "e08590c0",
   "metadata": {},
   "outputs": [
    {
     "name": "stdout",
     "output_type": "stream",
     "text": [
      "Classifier\n",
      "\tdtc\n",
      "Dataset Trained On\n",
      "\thead-16-cdiac_multilabel_gt_copy.csv\n",
      "Train and test time\n",
      "\t12.295641660690308\n",
      "Model accuracy\n",
      "\t0.9740782055895406\n",
      "Model precision\n",
      "\t0.924656730938137\n",
      "Model recall\n",
      "\t0.9141257375350739\n",
      "Model size\n",
      "\t43766719\n",
      "Parameters\n",
      "\t{'ccp_alpha': 0.0, 'class_weight': None, 'criterion': 'gini', 'max_depth': 4000, 'max_features': None, 'max_leaf_nodes': None, 'min_impurity_decrease': 0.0, 'min_samples_leaf': 1, 'min_samples_split': 3, 'min_weight_fraction_leaf': 0.0, 'random_state': None, 'splitter': 'random'}\n",
      "Run as multilabel?\n",
      "\tTrue\n",
      "F1-Score\n",
      "\t0.9193610779174223\n"
     ]
    }
   ],
   "source": [
    "import os\n",
    "import math\n",
    "import json\n",
    "import pickle\n",
    "import numpy as np\n",
    "import statistics as stats\n",
    "\n",
    "from sklearn import tree\n",
    "from pandas import DataFrame\n",
    "from matplotlib import pyplot as plt\n",
    "\n",
    "# ------ Fill this in to specify which pickle should be opened ------\n",
    "# --- NOTE: should include full path and filename but NO extension ---\n",
    "file = \"stored_models/trained_classifiers/dtc/dtc-head-16-cdiac_multilabel_gt_copy.csv-2022-03-31-05.26.30\"\n",
    "# --------------------------------------------------------------\n",
    "\n",
    "byte_count = int(file.split(\"/\")[-1].split(\"-\")[2])\n",
    "\n",
    "classifier_path = f\"{file}.pkl\"\n",
    "info_metrics_path = f\"{file}-info-{byte_count}Bytes.json\"\n",
    "\n",
    "info_metrics = json.load(open(info_metrics_path))\n",
    "\n",
    "# os.chdir('../XtractPredictor/')\n",
    "classifier = pickle.load(open(classifier_path, \"rb\"))\n",
    "# os.chdir('../xtract-research-notebooks/')\n",
    "\n",
    "for key in info_metrics.keys():\n",
    "    print(key)\n",
    "    print(f'\\t{info_metrics[key]}')\n",
    "\n",
    "precision = info_metrics['Model precision']\n",
    "recall = info_metrics['Model recall']\n",
    "print(f'F1-Score\\n\\t{2*precision*recall/(precision+recall)}')"
   ]
  },
  {
   "cell_type": "markdown",
   "id": "165cfbce",
   "metadata": {},
   "source": [
    "# Decision tree visualization\n",
    "Acceptable classifiers:\n",
    "- Decision tree classifier (dtc)\n",
    "- Single-tree extra tree classifier (t_etc)\n",
    "\n",
    "NOTE: If decision tree has too high of a maximum depth, this visualization will be illegible. I recommend setting max_depth to 3."
   ]
  },
  {
   "cell_type": "code",
   "execution_count": null,
   "id": "49770e61",
   "metadata": {},
   "outputs": [],
   "source": [
    "fig = plt.figure(figsize=(25, 25))\n",
    "_ = tree.plot_tree(classifier.model,\n",
    "                   filled=True)\n",
    "props = dict(boxstyle='round', facecolor='wheat', alpha=0.5)\n",
    "label_legend = \"\"\n",
    "for label in classifier.unique_labels:\n",
    "    label_legend += (label + \"\\n\")\n",
    "fig.text(0.13, 0.7, label_legend[:-1], fontsize=25, bbox=props)"
   ]
  },
  {
   "cell_type": "markdown",
   "id": "f7f89b35",
   "metadata": {},
   "source": [
    "# HeadByte heatmap visualization\n",
    "*Acceptable classifiers: any*"
   ]
  },
  {
   "cell_type": "code",
   "execution_count": null,
   "id": "479dcc10",
   "metadata": {},
   "outputs": [],
   "source": [
    "y_pred = classifier.model.predict(classifier.X_test)\n",
    "\n",
    "# Building a dictionary of the predicted (multi)labels and their corresponding binary lists\n",
    "\n",
    "unique_rows = np.unique(y_pred, axis=0)\n",
    "unique_dict = {}\n",
    "for unique_row in unique_rows:\n",
    "    labels = []\n",
    "    for pair in zip(unique_row, classifier.unique_labels):\n",
    "        if pair[0]:\n",
    "            labels.append(pair[1])\n",
    "    if len(labels) == 0:\n",
    "        labels.append(\"unknown\")\n",
    "    unique_dict[\", \".join(labels)] = unique_row\n",
    "    \n",
    "# Building a dictionary of all the feature info for each predicted label\n",
    "\n",
    "large_dict = {}\n",
    "for key in unique_dict.keys():\n",
    "    large_dict[key] = []\n",
    "\n",
    "for i in range(len(classifier.X_test)):\n",
    "    for key in unique_dict.keys():\n",
    "        if np.all(y_pred[i]==unique_dict[key]):\n",
    "            large_dict[key].append(classifier.X_test[i].tolist())\n",
    "            break\n",
    "\n",
    "sample_counts = \"Predicted sample counts\\n\\n\"\n",
    "for key in large_dict.keys():\n",
    "    sample_counts += key + \" : \" + str(len(large_dict[key])) + \"\\n\"\n",
    "\n",
    "print(\"The labels and their binarized lists:\")\n",
    "for key in unique_dict.keys():\n",
    "    print(key)\n",
    "    print(unique_dict[key])"
   ]
  },
  {
   "cell_type": "markdown",
   "id": "bc902821",
   "metadata": {},
   "source": [
    "## Average value heatmap"
   ]
  },
  {
   "cell_type": "code",
   "execution_count": null,
   "id": "e0e5aafb",
   "metadata": {},
   "outputs": [],
   "source": [
    "# Averaging the features for each bit\n",
    "\n",
    "avgs = []\n",
    "for key in large_dict.keys():\n",
    "    lst = large_dict[key]\n",
    "    lst = [list(x) for x in zip(*lst)]\n",
    "    lst = [stats.mean(x) for x in lst]\n",
    "    avgs.append(lst)\n",
    "    \n",
    "# UNCOMMENT to fill in empty labels in case you run on a limited range of samples\n",
    "\n",
    "# for i in range(len(avgs)):\n",
    "#     if (len(avgs[i])==0):\n",
    "#         avgs[i] = [0.0] * byte_count\n",
    "\n",
    "# Creating the plot\n",
    "\n",
    "fig, ax1 = plt.subplots()\n",
    "\n",
    "# Label y axis side with the class name\n",
    "\n",
    "y1_axis_labels = large_dict.keys()\n",
    "ax1.set_yticks(np.arange(len(y1_axis_labels)), labels=y1_axis_labels)\n",
    "\n",
    "# Plot the heatmap set good x-axis ticks\n",
    "\n",
    "fig.set_size_inches((2*byte_count)/10, 10.5) # UNCOMMENT FOR LARGER BYTECOUNTS\n",
    "plt.imshow(np.array(avgs))\n",
    "plt.xticks(ticks=[i for i in range(byte_count)], labels=[i+1 for i in range(byte_count)])\n",
    "\n",
    "# Adding title and sample count legend\n",
    "\n",
    "ax1.set_title(\"Average scalar value of n-th head byte for each predicted multilabel\")\n",
    "plt.tight_layout()\n",
    "\n",
    "props = dict(boxstyle='round', facecolor='wheat', alpha=0.5)\n",
    "plt.text(byte_count, -0.25, sample_counts[:-1], fontsize=10,\n",
    "         verticalalignment='top', bbox=props)"
   ]
  },
  {
   "cell_type": "markdown",
   "id": "be416262",
   "metadata": {},
   "source": [
    "## Standard deviation heatmap"
   ]
  },
  {
   "cell_type": "code",
   "execution_count": null,
   "id": "9ea20a2a",
   "metadata": {
    "scrolled": true
   },
   "outputs": [],
   "source": [
    "# Finding the standard deviation for each bit\n",
    "\n",
    "stdevs = []\n",
    "y_axis_labels = []\n",
    "for key in large_dict.keys():\n",
    "    lst = large_dict[key]\n",
    "    lst = [list(x) for x in zip(*lst)]\n",
    "    if (len(lst[0])>1):\n",
    "        lst = [stats.stdev(x) for x in lst]\n",
    "        stdevs.append(lst)\n",
    "        y_axis_labels.append(key)\n",
    "    \n",
    "# UNCOMMENT to fill in empty labels in case you run on a limited range of samples\n",
    "\n",
    "# for i in range(len(stdevs)):\n",
    "#     if (len(stdevs[i])==0):\n",
    "#         stdevs[i] = [0.0] * byte_count\n",
    "\n",
    "# Creating the plot\n",
    "\n",
    "fig, ax = plt.subplots()\n",
    "im = ax.imshow(np.array(stdevs))\n",
    "\n",
    "# Show all ticks and label them with the respective list entries\n",
    "\n",
    "ax.set_yticks(np.arange(len(y_axis_labels)), labels=y_axis_labels)\n",
    "\n",
    "# Plot the heatmap set good x-axis ticks\n",
    "\n",
    "fig.set_size_inches(18.5, 10.5) # UNCOMMENT FOR LARGER BYTECOUNTS\n",
    "plt.imshow(np.array(stdevs))\n",
    "plt.xticks(ticks=[i for i in range(byte_count)], labels=[i+1 for i in range(byte_count)])\n",
    "\n",
    "# Adding title and sample count legend\n",
    "\n",
    "ax1.set_title(\"Standard deviation of scalar values of n-th head byte\")\n",
    "plt.tight_layout()\n",
    "\n",
    "props = dict(boxstyle='round', facecolor='wheat', alpha=0.5)\n",
    "plt.text(byte_count, -0.25, sample_counts[:-1], fontsize=10,\n",
    "         verticalalignment='top', bbox=props)"
   ]
  },
  {
   "cell_type": "markdown",
   "id": "1071c819",
   "metadata": {},
   "source": [
    "# Multilabel Confusion Matrices\n",
    "*Acceptable classifiers: any*"
   ]
  },
  {
   "cell_type": "code",
   "execution_count": 18,
   "id": "0f802575",
   "metadata": {
    "scrolled": true
   },
   "outputs": [
    {
     "data": {
      "image/png": "[encoded data removed]",
      "text/plain": [
       "<Figure size 1440x504 with 10 Axes>"
      ]
     },
     "metadata": {
      "needs_background": "light"
     },
     "output_type": "display_data"
    }
   ],
   "source": [
    "import pandas as pd\n",
    "import seaborn as sns\n",
    "import matplotlib.pyplot as plt\n",
    "from sklearn.metrics import multilabel_confusion_matrix\n",
    "\n",
    "def print_confusion_matrix(confusion_matrix, axes, class_label, class_names, fontsize=14):\n",
    "\n",
    "    df_cm = pd.DataFrame(\n",
    "        confusion_matrix, index=class_names, columns=class_names,\n",
    "    )\n",
    "\n",
    "    try:\n",
    "        heatmap = sns.heatmap(df_cm, annot=True, fmt=\"d\", cbar=False, ax=axes)\n",
    "    except ValueError:\n",
    "        raise ValueError(\"Confusion matrix values must be integers.\")\n",
    "    heatmap.yaxis.set_ticklabels(heatmap.yaxis.get_ticklabels(), rotation=0, ha='right', fontsize=fontsize)\n",
    "    heatmap.xaxis.set_ticklabels(heatmap.xaxis.get_ticklabels(), rotation=45, ha='right', fontsize=fontsize)\n",
    "    axes.set_ylabel('True label')\n",
    "    axes.set_xlabel('Predicted label')\n",
    "    axes.set_title(\"Confusion Matrix for the class - \" + class_label)\n",
    "\n",
    "y_pred = classifier.model.predict(classifier.X_test)\n",
    "    \n",
    "# Some customizable values here, first two values should multiply to at least label count\n",
    "fig, ax = plt.subplots(2, 5, figsize=(20, 7))\n",
    "    \n",
    "multilabel_confusion_matrix = multilabel_confusion_matrix(y_pred, classifier.Y_test)\n",
    "multilabel_labels = classifier.unique_labels\n",
    "\n",
    "for axes, cfs_matrix, label in zip(ax.flatten(), multilabel_confusion_matrix, multilabel_labels):\n",
    "    print_confusion_matrix(cfs_matrix, axes, label, [\"N\", \"Y\"])\n",
    "    \n",
    "fig.tight_layout()\n",
    "plt.show()"
   ]
  },
  {
   "cell_type": "markdown",
   "id": "54795907",
   "metadata": {},
   "source": [
    "# Precision-Recall Curve"
   ]
  },
  {
   "cell_type": "code",
   "execution_count": 5,
   "id": "f8cb3983",
   "metadata": {},
   "outputs": [
    {
     "ename": "NameError",
     "evalue": "name 'Y_test' is not defined",
     "output_type": "error",
     "traceback": [
      "\u001b[0;31m---------------------------------------------------------------------------\u001b[0m",
      "\u001b[0;31mNameError\u001b[0m                                 Traceback (most recent call last)",
      "Input \u001b[0;32mIn [5]\u001b[0m, in \u001b[0;36m<cell line: 9>\u001b[0;34m()\u001b[0m\n\u001b[1;32m      8\u001b[0m n_classes \u001b[38;5;241m=\u001b[39m \u001b[38;5;28mlen\u001b[39m(classifier\u001b[38;5;241m.\u001b[39mY_test[\u001b[38;5;241m0\u001b[39m])\n\u001b[1;32m      9\u001b[0m \u001b[38;5;28;01mfor\u001b[39;00m i \u001b[38;5;129;01min\u001b[39;00m \u001b[38;5;28mrange\u001b[39m(n_classes):\n\u001b[0;32m---> 10\u001b[0m     precision[i], recall[i], _ \u001b[38;5;241m=\u001b[39m precision_recall_curve(\u001b[43mY_test\u001b[49m[:, i], y_score[:, i])\n\u001b[1;32m     11\u001b[0m     average_precision[i] \u001b[38;5;241m=\u001b[39m average_precision_score(Y_test[:, i], y_score[:, i])\n\u001b[1;32m     13\u001b[0m \u001b[38;5;66;03m# A \"micro-average\": quantifying score on all classes jointly\u001b[39;00m\n",
      "\u001b[0;31mNameError\u001b[0m: name 'Y_test' is not defined"
     ]
    }
   ],
   "source": [
    "from sklearn.metrics import precision_recall_curve\n",
    "from sklearn.metrics import average_precision_score\n",
    "\n",
    "# For each class\n",
    "precision = dict()\n",
    "recall = dict()\n",
    "average_precision = dict()\n",
    "n_classes = len(classifier.Y_test[0])\n",
    "for i in range(n_classes):\n",
    "    precision[i], recall[i], _ = precision_recall_curve(classifier.Y_test[:, i], y_score[:, i])\n",
    "    average_precision[i] = average_precision_score(classifier.Y_test[:, i], y_score[:, i])\n",
    "\n",
    "# A \"micro-average\": quantifying score on all classes jointly\n",
    "precision[\"micro\"], recall[\"micro\"], _ = precision_recall_curve(\n",
    "    Y_test.ravel(), y_score.ravel()\n",
    ")\n",
    "average_precision[\"micro\"] = average_precision_score(Y_test, y_score, average=\"micro\")"
   ]
  },
  {
   "cell_type": "code",
   "execution_count": 24,
   "id": "64bb2065",
   "metadata": {},
   "outputs": [
    {
     "name": "stdout",
     "output_type": "stream",
     "text": [
      "python\n",
      "[[41685     0]\n",
      " [    0     0]]\n",
      "empty\n",
      "[[41564     0]\n",
      " [   10   111]]\n",
      "executable\n",
      "[[38418     0]\n",
      " [  475  2792]]\n",
      "jsonxml\n",
      "[[40547   377]\n",
      " [  106   655]]\n",
      "netcdf\n",
      "[[41600     0]\n",
      " [    0    85]]\n",
      "tabular\n",
      "[[32579   322]\n",
      " [  610  8174]]\n",
      "compressed\n",
      "[[18707    24]\n",
      " [    0 22954]]\n",
      "c-code\n",
      "[[41682     3]\n",
      " [    0     0]]\n",
      "images\n",
      "[[38464    85]\n",
      " [    0  3136]]\n",
      "keyword\n",
      "[[35087   118]\n",
      " [  371  6109]]\n",
      "[0, 111, 2792, 655, 85, 8174, 22954, 0, 3136, 6109]\n",
      "44016\n",
      "0.9793302925798197\n",
      "['python', 'empty', 'executable', 'jsonxml', 'netcdf', 'tabular', 'compressed', 'c-code', 'images', 'keyword']\n"
     ]
    }
   ],
   "source": [
    "from sklearn.metrics import multilabel_confusion_matrix\n",
    "\n",
    "y_pred = classifier.model.predict(classifier.X_test)\n",
    "    \n",
    "multilabel_confusion_matrix = multilabel_confusion_matrix(y_pred, classifier.Y_test)\n",
    "multilabel_labels = classifier.unique_labels\n",
    "\n",
    "# for axes, cfs_matrix, label in zip(ax.flatten(), multilabel_confusion_matrix, multilabel_labels):\n",
    "#     print_confusion_matrix(cfs_matrix, axes, label, [\"N\", \"Y\"])\n",
    "tps = []\n",
    "fps = []\n",
    "fns = []\n",
    "for cfs_matrix, label in zip(multilabel_confusion_matrix, multilabel_labels):\n",
    "    print(label)\n",
    "    print(cfs_matrix)\n",
    "    tps.append(cfs_matrix[1][1])\n",
    "    fps.append(cfs_matrix[0][1])\n",
    "    fn = cfs_matrix[1][0]\n",
    "\n",
    "micro_prec_avg = sum(tps) / (sum(tps)+sum(fps))\n",
    "micro_recall_avg = sum\n",
    "\n",
    "print(classifier.unique_labels)"
   ]
  },
  {
   "cell_type": "code",
   "execution_count": null,
   "id": "8c9debad",
   "metadata": {},
   "outputs": [],
   "source": []
  }
 ],
 "metadata": {
  "kernelspec": {
   "display_name": "Python 3 (ipykernel)",
   "language": "python",
   "name": "python3"
  },
  "language_info": {
   "codemirror_mode": {
    "name": "ipython",
    "version": 3
   },
   "file_extension": ".py",
   "mimetype": "text/x-python",
   "name": "python",
   "nbconvert_exporter": "python",
   "pygments_lexer": "ipython3",
   "version": "3.10.0"
  }
 },
 "nbformat": 4,
 "nbformat_minor": 5
}
