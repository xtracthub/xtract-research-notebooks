{
 "cells": [
  {
   "cell_type": "markdown",
   "id": "bdaaabda",
   "metadata": {},
   "source": [
    "# Using Xtract to index research artifacts stored on Jetstream"
   ]
  },
  {
   "cell_type": "markdown",
   "id": "ffea69d1",
   "metadata": {},
   "source": [
    "### This Xtract-Jetstream demo illustrates how to crawl, extract metadata from, and ingest metadata for any Globus Endpoint."
   ]
  },
  {
   "cell_type": "markdown",
   "id": "48986173",
   "metadata": {},
   "source": [
    "We begin by importing the Client and Endpoint classes from the xtract_sdk SDK"
   ]
  },
  {
   "cell_type": "code",
   "execution_count": null,
   "id": "cb620642",
   "metadata": {
    "scrolled": true
   },
   "outputs": [],
   "source": [
    "from xtract_sdk.client import XtractClient\n",
    "from xtract_sdk.endpoint import XtractEndpoint"
   ]
  },
  {
   "cell_type": "markdown",
   "id": "c330aa26",
   "metadata": {},
   "source": [
    "## Step 1.a: Login\n",
    "### Creating an XtractClient object\n",
    "\n",
    "Here we create an XtractClient object to request tokens from Globus Auth. When fresh tokens are needed, users will authenticate with their Globus ID by following the directions in the STDOUT. Default auth scopes are as follow:\n",
    "\n",
    "* **openid**: provides username for identity.\n",
    "* **data_mdf**: FILL IN\n",
    "* **search**: interact with Globus Search\n",
    "* **petrel**: read or write data on Petrel. Not needed if no data going to Petrel.\n",
    "* **transfer**: needed to crawl the Globus endpoint and transfer metadata to its final location.\n",
    "* **dlhub**: FILL IN\n",
    "* **funcx_scope**: needed to orchestrate the metadata exraction at the given funcX endpoint.\n",
    "\n",
    "Additional auth scopes can be added with the `auth_scopes` argument.\n",
    "\n",
    "The following code block initializes all of the tokens by creating an `XtractClient` object."
   ]
  },
  {
   "cell_type": "code",
   "execution_count": null,
   "id": "adf9cb30",
   "metadata": {},
   "outputs": [],
   "source": [
    "xtr = XtractClient(auth_scopes=None, force_login=False)  \n",
    "print(f'Auths: {xtr.auths}')"
   ]
  },
  {
   "cell_type": "markdown",
   "id": "5e5bd5e3",
   "metadata": {},
   "source": [
    "## Step 1.b: Defining endpoints\n",
    "### Creating an XtractEndpoint object\n",
    "\n",
    "Here we create an XtractEndpoint object to be used later in a crawl, etc.\n",
    "\n",
    "Required arguments are as follow:\n",
    "* **repo_type**: at this point, only Globus is accepted. GDrive and others to be implemented at a later date.\n",
    "* **globus_ep_id**: the source endpoint ID, at this point assumed to be a Globus ID (see previous bullet point)\n",
    "* **dirs**: directory paths for where the data resides\n",
    "* **grouper**: grouping strategy we want to use for grouping.\n",
    "\n",
    "The XtractEndpoint can also be given a `funcx_ep_id`.\n",
    "\n",
    "The following code block creates two `XtractEndpoint` objects which we will then be able to crawl on, etc."
   ]
  },
  {
   "cell_type": "code",
   "execution_count": null,
   "id": "1131ff1f",
   "metadata": {},
   "outputs": [],
   "source": [
    "xep1 = XtractEndpoint(repo_type=\"GLOBUS\",\n",
    "                      globus_ep_id='cb61bb16-5144-11ec-a6c6-9b4f84e67de8',\n",
    "                      funcx_ep_id='6b3a1745-5e0e-4c60-82db-0faac6cc246f',\n",
    "                      dirs=['/home/tskluzac/Documents/to-transfer-smaller'],\n",
    "                      grouper='file_is_group',\n",
    "                      local_mdata_path = \"/home/tskluzac/mdata\")\n",
    "\n",
    "transferxep = XtractEndpoint(repo_type=\"GLOBUS\",\n",
    "                            globus_ep_id='cb61bb16-5144-11ec-a6c6-9b4f84e67de8',\n",
    "                            dirs=['/home/tskluzac/Documents/to-transfer-smaller'],\n",
    "                            grouper='file_is_group',\n",
    "                            local_mdata_path=['/home/tskluzac/mdata'])\n",
    "\n",
    "#transferxep.register_containers(container_path='/home/tskluzac/.xtract/.containers')"
   ]
  },
  {
   "cell_type": "markdown",
   "id": "968a6624",
   "metadata": {},
   "source": [
    "## Step 2.a: Crawl\n",
    "Crawling, behind the scenes, will scan a Globus directory breadth-first (using globus_ls), first extracting physical metadata such as path, size, and extension. Next, since the *grouper* we selected is 'file_is_group', the crawler will simply create `n` single-file groups. \n",
    "\n",
    "The crawl is **non-blocking**, and the crawl_id here will be used to execute and monitor downstream extraction processes. \n",
    "\n",
    "The crawl ID for each endpoint will be stored in the XtractClient object as a list `self.crawl_ids`."
   ]
  },
  {
   "cell_type": "code",
   "execution_count": null,
   "id": "e03c71cf",
   "metadata": {},
   "outputs": [],
   "source": [
    "xtr.crawl([xep1])#, xep2])\n",
    "print(f'Crawl IDs: {xtr.crawl_ids}')"
   ]
  },
  {
   "cell_type": "markdown",
   "id": "dce9fa1b",
   "metadata": {},
   "source": [
    "## Step 2.b: Crawl status\n",
    "We can get crawl status, seeing how many groups have been identified in the crawl. If `xtr.crawl()` has already been run, then `xtr.get_crawl_status()` will get the status of the IDs stored in `xtr.crawl_ids`. Otherwise, a list of `crawl_ids` may be given to `xtr.get_crawl_status()`.\n",
    "\n",
    "This will return a dictionary resembling: \n",
    "```\n",
    "{‘crawl_id’: ‘xxx’,\n",
    " ‘status’: ‘xxx’, \n",
    " ‘message’: “OK” if everything is fine otherwise describes error,\n",
    " ‘data’: {'bytes_crawled': xxx, ..., 'files_crawled': xxx}}\n",
    "```\n",
    "\n",
    "Note that measuring the total files yet to crawl is impossible, as the BFS may not have discovered all files yet, and Globus does not yet have a file counting feature for all directories and subdirectories. I.e., we know when we're done, but we do not know until we get there. \n",
    "\n",
    "**Warning:** it currently takes up to 30 seconds for a crawl to start. *Why?* Container warming time. "
   ]
  },
  {
   "cell_type": "code",
   "execution_count": null,
   "id": "5915429b",
   "metadata": {},
   "outputs": [],
   "source": [
    "import time\n",
    "\n",
    "while True:\n",
    "    \n",
    "    crawl_statuses = xtr.get_crawl_status(crawl_ids=None)\n",
    "    for resp in crawl_statuses:\n",
    "        print(resp)\n",
    "    \n",
    "    sub_statuses = [d['status'] for d in crawl_statuses]\n",
    "    if all(s == 'complete' for s in sub_statuses):\n",
    "        break\n",
    "    \n",
    "    time.sleep(2)"
   ]
  },
  {
   "cell_type": "markdown",
   "id": "67de8d2a",
   "metadata": {},
   "source": [
    "## Step 2.c: Flushing crawl metadata\n",
    "\n",
    "After running a crawl, we can use `xtr.flush_crawl_metadata()` to return a list of all metadata from the crawl. \n",
    "\n",
    "Similarly with `.get_crawl_status()`, if `xtr.crawl()` has already been run, then `xtr.flush_crawl_metadata()` will get the status of the IDs stored in `xtr.crawl_ids`. Otherwise, a list of `crawl_ids` may be given to `xtr.flush_crawl_metadata()`.\n",
    "\n",
    "Flushing crawl metadata will return a dictionary resembling:\n",
    "```\n",
    "{\"crawl_id\": String,\n",
    " \"file_ls\": List,\n",
    " \"num_files\": Integer,\n",
    " \"queue_empty\": Boolean}\n",
    "```"
   ]
  },
  {
   "cell_type": "code",
   "execution_count": null,
   "id": "fd7e0a8a",
   "metadata": {},
   "outputs": [],
   "source": [
    "while True:\n",
    "    \n",
    "    print(xtr.flush_crawl_metadata(crawl_ids=None))\n",
    "\n",
    "    time.sleep(1)"
   ]
  },
  {
   "cell_type": "markdown",
   "id": "1afa39ff",
   "metadata": {},
   "source": [
    "## Step 3: Xtract-ing\n",
    "\n",
    "Under construction"
   ]
  },
  {
   "cell_type": "code",
   "execution_count": null,
   "id": "9e6bbc35",
   "metadata": {},
   "outputs": [],
   "source": [
    "print(f\"Should be 200: {xtr.xtract()}\")"
   ]
  },
  {
   "cell_type": "markdown",
   "id": "09c07bde",
   "metadata": {},
   "source": [
    "## Step 3b: Getting Xtract status\n",
    "\n",
    "Under construction"
   ]
  },
  {
   "cell_type": "code",
   "execution_count": null,
   "id": "14e31d33",
   "metadata": {},
   "outputs": [],
   "source": [
    "import time\n",
    "\n",
    "while True:\n",
    "    \n",
    "    xtract_statuses = xtr.get_xtract_status()\n",
    "    for resp in xtract_statuses:\n",
    "        print(resp)\n",
    "    \n",
    "    sub_statuses = [d['xtract_status'] for d in xtract_statuses]\n",
    "    if all(s == 'complete' for s in sub_statuses):\n",
    "        break\n",
    "    \n",
    "    time.sleep(2)"
   ]
  },
  {
   "cell_type": "markdown",
   "id": "192846f3",
   "metadata": {},
   "source": [
    "## Offload Metadata\n",
    "\n",
    "Under construction"
   ]
  },
  {
   "cell_type": "code",
   "execution_count": null,
   "id": "a9c1666c",
   "metadata": {
    "scrolled": false
   },
   "outputs": [],
   "source": [
    "from xtract_sdk.client import XtractClient\n",
    "from xtract_sdk.endpoint import XtractEndpoint\n",
    "\n",
    "import globus_sdk\n",
    "import time\n",
    "\n",
    "xtr = XtractClient(auth_scopes=None, force_login=False)  \n",
    "print(f'Auths: {xtr.auths}')\n",
    "\n",
    "# transferxep = XtractEndpoint(repo_type=\"GLOBUS\",\n",
    "#                             globus_ep_id='cb61bb16-5144-11ec-a6c6-9b4f84e67de8',\n",
    "#                             dirs=['/home/tskluzac/Documents/to-transfer-smaller'],\n",
    "#                             grouper='file_is_group',\n",
    "#                             local_mdata_path='/home/tskluzac/mdata')\n",
    "\n",
    "transferxep = XtractEndpoint(repo_type=\"GLOBUS\",\n",
    "                            globus_ep_id='4f99675c-ac1f-11ea-bee8-0e716405a293',\n",
    "                            dirs=['/tyler_g_test/FREN'],\n",
    "                            grouper='file_is_group',\n",
    "                            local_mdata_path='/tyler_g_test/FREN')"
   ]
  },
  {
   "cell_type": "code",
   "execution_count": null,
   "id": "3b11ca88",
   "metadata": {},
   "outputs": [],
   "source": [
    "xtr.crawl_and_wait([transferxep])"
   ]
  },
  {
   "cell_type": "code",
   "execution_count": null,
   "id": "7f56e0b5",
   "metadata": {
    "scrolled": true
   },
   "outputs": [],
   "source": [
    "xtr.offload_metadata(dest_ep_id='0caf6e8e-4974-11ec-a515-b537d6c07c1d',\n",
    "                    dest_path='Desktop/mdata/',\n",
    "                    delete_source=True)"
   ]
  },
  {
   "cell_type": "code",
   "execution_count": null,
   "id": "96e80a0c",
   "metadata": {},
   "outputs": [],
   "source": []
  }
 ],
 "metadata": {
  "kernelspec": {
   "display_name": "12-16-wf",
   "language": "python",
   "name": "12-16-wf"
  },
  "language_info": {
   "codemirror_mode": {
    "name": "ipython",
    "version": 3
   },
   "file_extension": ".py",
   "mimetype": "text/x-python",
   "name": "python",
   "nbconvert_exporter": "python",
   "pygments_lexer": "ipython3",
   "version": "3.8.5"
  }
 },
 "nbformat": 4,
 "nbformat_minor": 5
}
