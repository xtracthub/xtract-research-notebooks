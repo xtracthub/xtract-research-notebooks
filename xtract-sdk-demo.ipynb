{
 "cells": [
  {
   "cell_type": "markdown",
   "id": "bdaaabda",
   "metadata": {},
   "source": [
    "# Using Xtract to index research artifacts stored on Jetstream"
   ]
  },
  {
   "cell_type": "markdown",
   "id": "ffea69d1",
   "metadata": {},
   "source": [
    "### This Xtract-Jetstream demo illustrates how to crawl, extract metadata from, and ingest metadata for any Globus Endpoint.\n",
    "\n",
    "#### We begin by importing important libraries. Of note, we use the `mdf_toolbox` library as a wrapper for Globus Auth."
   ]
  },
  {
   "cell_type": "code",
   "execution_count": null,
   "id": "b2d42fe0",
   "metadata": {},
   "outputs": [],
   "source": [
    "import mdf_toolbox\n",
    "import requests\n",
    "import jsonschema"
   ]
  },
  {
   "cell_type": "markdown",
   "id": "48986173",
   "metadata": {},
   "source": [
    "#### Now, we import the Client and Endpoint classes from the xtract_sdk SDK"
   ]
  },
  {
   "cell_type": "code",
   "execution_count": null,
   "id": "cb620642",
   "metadata": {
    "scrolled": true
   },
   "outputs": [],
   "source": [
    "from xtract_sdk.client import XtractClient\n",
    "from xtract_sdk.endpoint import XtractEndpoint"
   ]
  },
  {
   "cell_type": "markdown",
   "id": "c330aa26",
   "metadata": {},
   "source": [
    "## Step 1.a: Login\n",
    "### Creating an XtractClient object\n",
    "\n",
    "Here we create an XtractClient object to request tokens from Globus Auth. When fresh tokens are needed, users will authenticate with their Globus ID by following the directions in the STDOUT. Default auth scopes are as follow:\n",
    "\n",
    "* **openid**: provides username for identity.\n",
    "* **data_mdf**: FILL IN\n",
    "* **search**: interact with Globus Search\n",
    "* **petrel**: read or write data on Petrel. Not needed if no data going to Petrel.\n",
    "* **transfer**: needed to crawl the Globus endpoint and transfer metadata to its final location.\n",
    "* **dlhub**: FILL IN\n",
    "* **funcx_scope**: needed to orchestrate the metadata exraction at the given funcX endpoint.\n",
    "\n",
    "Additional auth scopes can be added with the `auth_scopes` argument.\n",
    "\n",
    "The following code block initializes all of the tokens by creating an `XtractClient` object."
   ]
  },
  {
   "cell_type": "code",
   "execution_count": null,
   "id": "adf9cb30",
   "metadata": {},
   "outputs": [],
   "source": [
    "xtr = XtractClient(auth_scopes=None, dev=False)  \n",
    "print(f'Auths: {xtr.auths}')"
   ]
  },
  {
   "cell_type": "markdown",
   "id": "5e5bd5e3",
   "metadata": {},
   "source": [
    "## Step 1.b: Defining endpoints\n",
    "### Creating an XtractEndpoint object\n",
    "\n",
    "Here we create an XtractEndpoint object to be used later in a crawl, etc.\n",
    "\n",
    "Required arguments are as follow:\n",
    "* **repo_type**: at this point, only Globus is accepted. GDrive and others to be implemented at a later date.\n",
    "* **globus_ep_id**: the source endpoint ID, at this point assumed to be a Globus ID (see previous bullet point)\n",
    "* **dirs**: directory paths for where the data resides\n",
    "* **grouper**: grouping strategy we want to use for grouping.\n",
    "\n",
    "The XtractEndpoint can also be given a `funcx_ep_id`.\n",
    "\n",
    "The following code block creates two `XtractEndpoint` objects which we will then be able to crawl on, etc."
   ]
  },
  {
   "cell_type": "code",
   "execution_count": null,
   "id": "1131ff1f",
   "metadata": {},
   "outputs": [],
   "source": [
    "xep1 = XtractEndpoint(repo_type='globus',\n",
    "                      globus_ep_id='f9959bd2-e98f-11eb-884c-aba19178789c',\n",
    "                      funcx_ep_id='aaaa-0000-3333',\n",
    "                      dirs=['/home/tskluzac/cord-19'], \n",
    "                      grouper='file_is_group')\n",
    "\n",
    "xep2 = XtractEndpoint(repo_type='globus',\n",
    "                      globus_ep_id='f9959bd2-e98f-11eb-884c-aba19178789c',\n",
    "                      dirs=['/home/tskluzac/cord-19'], \n",
    "                      grouper='file_is_group')"
   ]
  },
  {
   "cell_type": "markdown",
   "id": "968a6624",
   "metadata": {},
   "source": [
    "## Step 2.a: Crawl\n",
    "Crawling, behind the scenes, will scan a Globus directory breadth-first (using globus_ls), first extracting physical metadata such as path, size, and extension. Next, since the *grouper* we selected is 'file_is_group', the crawler will simply create `n` single-file groups. \n",
    "\n",
    "The crawl is **non-blocking**, and the crawl_id here will be used to execute and monitor downstream extraction processes. \n",
    "\n",
    "The crawl ID for each endpoint will be stored in the XtractClient object as a list `self.crawl_ids`."
   ]
  },
  {
   "cell_type": "code",
   "execution_count": null,
   "id": "e03c71cf",
   "metadata": {},
   "outputs": [],
   "source": [
    "xtr.crawl([xep1, xep2])\n",
    "print(f'Crawl IDs: {xtr.crawl_ids}')"
   ]
  },
  {
   "cell_type": "markdown",
   "id": "dce9fa1b",
   "metadata": {},
   "source": [
    "## Step 2.b: Crawl status\n",
    "We can get crawl status, seeing how many groups have been identified in the crawl. If `xtr.crawl()` has already been run, then `xtr.get_crawl_status()` will get the status of the IDs stored in `xtr.crawl_ids`. Otherwise, a list of `crawl_ids` may be given to `xtr.get_crawl_status()`.\n",
    "\n",
    "This will return a dictionary resembling: \n",
    "```\n",
    "{‘crawl_id’: ‘xxx’,\n",
    " ‘status’: ‘xxx’, \n",
    " ‘message’: “OK” if everything is fine otherwise describes error,\n",
    " ‘data’: {'bytes_crawled': xxx, ..., 'files_crawled': xxx}}\n",
    "```\n",
    "\n",
    "Note that measuring the total files yet to crawl is impossible, as the BFS may not have discovered all files yet, and Globus does not yet have a file counting feature for all directories and subdirectories. I.e., we know when we're done, but we do not know until we get there. \n",
    "\n",
    "**Warning:** it currently takes up to 30 seconds for a crawl to start. *Why?* Container warming time. "
   ]
  },
  {
   "cell_type": "code",
   "execution_count": null,
   "id": "5915429b",
   "metadata": {},
   "outputs": [],
   "source": [
    "import time\n",
    "\n",
    "while True:\n",
    "\n",
    "    crawl_statuses = xtr.get_crawl_status(crawl_ids=None)\n",
    "    for resp in crawl_statuses:\n",
    "        print(resp)\n",
    "\n",
    "    sub_statuses = [d['status'] for d in crawl_statuses]\n",
    "    if all(s == 'complete' for s in sub_statuses):\n",
    "        break\n",
    "\n",
    "    time.sleep(2)"
   ]
  },
  {
   "cell_type": "markdown",
   "id": "67de8d2a",
   "metadata": {},
   "source": [
    "## Step 2.c: Flushing crawl metadata\n",
    "\n",
    "After running a crawl, we can use `xtr.flush_crawl_metadata()` to return a list of all metadata from the crawl. \n",
    "\n",
    "Similarly with `.get_crawl_status()`, if `xtr.crawl()` has already been run, then `xtr.flush_crawl_metadata()` will get the status of the IDs stored in `xtr.crawl_ids`. Otherwise, a list of `crawl_ids` may be given to `xtr.flush_crawl_metadata()`.\n",
    "\n",
    "Flushing crawl metadata will return a dictionary resembling:\n",
    "```\n",
    "{\"crawl_id\": String,\n",
    " \"file_ls\": List,\n",
    " \"num_files\": Integer,\n",
    " \"queue_empty\": Boolean}\n",
    "```"
   ]
  },
  {
   "cell_type": "code",
   "execution_count": null,
   "id": "fd7e0a8a",
   "metadata": {},
   "outputs": [],
   "source": [
    "while True:\n",
    "    \n",
    "    print(xtr.flush_crawl_metadata(crawl_ids=None)\n",
    "    \n",
    "    time.sleep(1)"
   ]
  },
  {
   "cell_type": "code",
   "execution_count": null,
   "id": "4c09f9b8",
   "metadata": {},
   "outputs": [],
   "source": []
  }
 ],
 "metadata": {
  "kernelspec": {
   "display_name": "nb-test",
   "language": "python",
   "name": "nb-test"
  },
  "language_info": {
   "codemirror_mode": {
    "name": "ipython",
    "version": 3
   },
   "file_extension": ".py",
   "mimetype": "text/x-python",
   "name": "python",
   "nbconvert_exporter": "python",
   "pygments_lexer": "ipython3",
   "version": "3.8.12"
  }
 },
 "nbformat": 4,
 "nbformat_minor": 5
}
