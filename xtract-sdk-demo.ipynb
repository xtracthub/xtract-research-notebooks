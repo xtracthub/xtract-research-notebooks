{
 "cells": [
  {
   "cell_type": "markdown",
   "id": "bdaaabda",
   "metadata": {},
   "source": [
    "# Using Xtract to index research artifacts stored on Jetstream"
   ]
  },
  {
   "cell_type": "markdown",
   "id": "ffea69d1",
   "metadata": {},
   "source": [
    "### This Xtract-Jetstream demo illustrates how to crawl, extract metadata from, and ingest metadata for any Globus Endpoint.\n",
    "\n",
    "#### We begin by importing important libraries. Of note, we use the `mdf_toolbox` library as a wrapper for Globus Auth."
   ]
  },
  {
   "cell_type": "code",
   "execution_count": 1,
   "id": "b2d42fe0",
   "metadata": {},
   "outputs": [],
   "source": [
    "import mdf_toolbox\n",
    "import requests\n",
    "import jsonschema"
   ]
  },
  {
   "cell_type": "markdown",
   "id": "48986173",
   "metadata": {},
   "source": [
    "#### Now, we import the Client and Endpoint classes from the xtract_sdk SDK"
   ]
  },
  {
   "cell_type": "code",
   "execution_count": 2,
   "id": "cb620642",
   "metadata": {
    "scrolled": true
   },
   "outputs": [],
   "source": [
    "from xtract_sdk.client import XtractClient\n",
    "from xtract_sdk.endpoint import XtractEndpoint"
   ]
  },
  {
   "cell_type": "markdown",
   "id": "c330aa26",
   "metadata": {},
   "source": [
    "## Step 1.a: Login\n",
    "### Creating an XtractClient object\n",
    "\n",
    "Here we create an XtractClient object to request tokens from Globus Auth. When fresh tokens are needed, users will authenticate with their Globus ID by following the directions in the STDOUT. Default auth scopes are as follow:\n",
    "\n",
    "* **openid**: provides username for identity.\n",
    "* **data_mdf**: FILL IN\n",
    "* **search**: interact with Globus Search\n",
    "* **petrel**: read or write data on Petrel. Not needed if no data going to Petrel.\n",
    "* **transfer**: needed to crawl the Globus endpoint and transfer metadata to its final location.\n",
    "* **dlhub**: FILL IN\n",
    "* **funcx_scope**: needed to orchestrate the metadata exraction at the given funcX endpoint.\n",
    "\n",
    "Additional auth scopes can be added with the `auth_scopes` argument.\n",
    "\n",
    "The following code block initializes all of the tokens by creating an `XtractClient` object."
   ]
  },
  {
   "cell_type": "code",
   "execution_count": 5,
   "id": "adf9cb30",
   "metadata": {},
   "outputs": [
    {
     "name": "stdout",
     "output_type": "stream",
     "text": [
      "Auths: {'openid': <globus_sdk.authorizers.refresh_token.RefreshTokenAuthorizer object at 0x7fa069ccd8e0>, 'https://auth.globus.org/scopes/facd7ccc-c5f4-42aa-916b-a0e270e2c2a9/all': <globus_sdk.authorizers.refresh_token.RefreshTokenAuthorizer object at 0x7fa069ccd6a0>, 'search': <globus_sdk.services.search.client.SearchClient object at 0x7fa069f5c6d0>, 'data_mdf': <globus_sdk.authorizers.refresh_token.RefreshTokenAuthorizer object at 0x7fa069f77fd0>, 'petrel': <globus_sdk.authorizers.refresh_token.RefreshTokenAuthorizer object at 0x7fa0695bae50>, 'dlhub': <globus_sdk.authorizers.refresh_token.RefreshTokenAuthorizer object at 0x7fa069f5cb20>, 'transfer': <globus_sdk.services.transfer.client.TransferClient object at 0x7fa069f94ee0>}\n"
     ]
    }
   ],
   "source": [
    "xtr = XtractClient(auth_scopes=None, dev=False)  \n",
    "print(f'Auths: {xtr.auths}')"
   ]
  },
  {
   "cell_type": "markdown",
   "id": "5e5bd5e3",
   "metadata": {},
   "source": [
    "## Step 1.b: Defining endpoints\n",
    "### Creating an XtractEndpoint object\n",
    "\n",
    "Here we create an XtractEndpoint object to be used later in a crawl, etc.\n",
    "\n",
    "Required arguments are as follow:\n",
    "* **repo_type**: at this point, only Globus is accepted. GDrive and others to be implemented at a later date.\n",
    "* **globus_ep_id**: the source endpoint ID, at this point assumed to be a Globus ID (see previous bullet point)\n",
    "* **dirs**: directory paths for where the data resides\n",
    "* **grouper**: grouping strategy we want to use for grouping.\n",
    "\n",
    "The XtractEndpoint can also be given a `funcx_ep_id`.\n",
    "\n",
    "The following code block creates two `XtractEndpoint` objects which we will then be able to crawl on, etc."
   ]
  },
  {
   "cell_type": "code",
   "execution_count": 6,
   "id": "1131ff1f",
   "metadata": {},
   "outputs": [],
   "source": [
    "xep1 = XtractEndpoint(repo_type='globus',\n",
    "                      globus_ep_id='f9959bd2-e98f-11eb-884c-aba19178789c',\n",
    "                      funcx_ep_id='aaaa-0000-3333',\n",
    "                      dirs=['/home/tskluzac/cord-19'], \n",
    "                      grouper='file_is_group')\n",
    "\n",
    "xep2 = XtractEndpoint(repo_type='globus',\n",
    "                      globus_ep_id='f9959bd2-e98f-11eb-884c-aba19178789c',\n",
    "                      dirs=['/home/tskluzac/cord-19'], \n",
    "                      grouper='file_is_group')"
   ]
  },
  {
   "cell_type": "markdown",
   "id": "968a6624",
   "metadata": {},
   "source": [
    "## Step 2.a: Crawl\n",
    "Crawling, behind the scenes, will scan a Globus directory breadth-first (using globus_ls), first extracting physical metadata such as path, size, and extension. Next, since the *grouper* we selected is 'file_is_group', the crawler will simply create `n` single-file groups. \n",
    "\n",
    "The crawl is **non-blocking**, and the crawl_id here will be used to execute and monitor downstream extraction processes. \n",
    "\n",
    "The crawl ID for each endpoint will be stored in the `xtr` XtractClient object as a list."
   ]
  },
  {
   "cell_type": "code",
   "execution_count": 7,
   "id": "e03c71cf",
   "metadata": {},
   "outputs": [
    {
     "name": "stdout",
     "output_type": "stream",
     "text": [
      "Crawl IDs: ['4343ae57-118d-4ba9-9355-81fefa4fd6f7', '018d51be-9bf4-44db-acb3-79ad5a36150d']\n"
     ]
    }
   ],
   "source": [
    "xtr.crawl([xep1, xep2])\n",
    "print(f'Crawl IDs: {xtr.crawl_ids}')"
   ]
  },
  {
   "cell_type": "markdown",
   "id": "dce9fa1b",
   "metadata": {},
   "source": [
    "## Step 2.b: Crawl status\n",
    "We can get crawl status, seeing how many groups have been identified in the crawl. If `.crawl()` has already been run, then `.get_crawl_status()` will get the status of the IDs stored in the XtractClient object by `.crawl()`. Otherwise, a list of `crawl_ids` may be given to `.get_crawl_status()`.\n",
    "\n",
    "Note that measuring the total files yet to crawl is impossible, as the BFS may not have discovered all files yet, and Globus does not yet have a file counting feature for all directories and subdirectories. I.e., we know when we're done, but we do not know until we get there. \n",
    "\n",
    "**Warning:** it currently takes up to 30 seconds for a crawl to start. *Why?* Container warming time. "
   ]
  },
  {
   "cell_type": "code",
   "execution_count": 8,
   "id": "5915429b",
   "metadata": {},
   "outputs": [
    {
     "name": "stdout",
     "output_type": "stream",
     "text": [
      "{'crawl_id': '4343ae57-118d-4ba9-9355-81fefa4fd6f7', 'status': 'initializing', 'message': 'OK or error', 'data': {}}\n",
      "{'crawl_id': '018d51be-9bf4-44db-acb3-79ad5a36150d', 'status': 'initializing', 'message': 'OK or error', 'data': {}}\n",
      "{'crawl_id': '4343ae57-118d-4ba9-9355-81fefa4fd6f7', 'status': 'initializing', 'message': 'OK or error', 'data': {}}\n",
      "{'crawl_id': '018d51be-9bf4-44db-acb3-79ad5a36150d', 'status': 'initializing', 'message': 'OK or error', 'data': {}}\n",
      "{'crawl_id': '4343ae57-118d-4ba9-9355-81fefa4fd6f7', 'status': 'initializing', 'message': 'OK or error', 'data': {}}\n",
      "{'crawl_id': '018d51be-9bf4-44db-acb3-79ad5a36150d', 'status': 'initializing', 'message': 'OK or error', 'data': {}}\n",
      "{'crawl_id': '4343ae57-118d-4ba9-9355-81fefa4fd6f7', 'status': 'initializing', 'message': 'OK or error', 'data': {}}\n",
      "{'crawl_id': '018d51be-9bf4-44db-acb3-79ad5a36150d', 'status': 'initializing', 'message': 'OK or error', 'data': {}}\n",
      "{'crawl_id': '4343ae57-118d-4ba9-9355-81fefa4fd6f7', 'status': 'initializing', 'message': 'OK or error', 'data': {}}\n",
      "{'crawl_id': '018d51be-9bf4-44db-acb3-79ad5a36150d', 'status': 'initializing', 'message': 'OK or error', 'data': {}}\n",
      "{'crawl_id': '4343ae57-118d-4ba9-9355-81fefa4fd6f7', 'status': 'initializing', 'message': 'OK or error', 'data': {}}\n",
      "{'crawl_id': '018d51be-9bf4-44db-acb3-79ad5a36150d', 'status': 'initializing', 'message': 'OK or error', 'data': {}}\n",
      "{'crawl_id': '4343ae57-118d-4ba9-9355-81fefa4fd6f7', 'status': 'initializing', 'message': 'OK or error', 'data': {}}\n",
      "{'crawl_id': '018d51be-9bf4-44db-acb3-79ad5a36150d', 'status': 'initializing', 'message': 'OK or error', 'data': {}}\n",
      "{'crawl_id': '4343ae57-118d-4ba9-9355-81fefa4fd6f7', 'status': 'initializing', 'message': 'OK or error', 'data': {}}\n",
      "{'crawl_id': '018d51be-9bf4-44db-acb3-79ad5a36150d', 'status': 'initializing', 'message': 'OK or error', 'data': {}}\n",
      "{'crawl_id': '4343ae57-118d-4ba9-9355-81fefa4fd6f7', 'status': 'initializing', 'message': 'OK or error', 'data': {}}\n",
      "{'crawl_id': '018d51be-9bf4-44db-acb3-79ad5a36150d', 'status': 'initializing', 'message': 'OK or error', 'data': {}}\n",
      "{'crawl_id': '4343ae57-118d-4ba9-9355-81fefa4fd6f7', 'status': 'initializing', 'message': 'OK or error', 'data': {}}\n",
      "{'crawl_id': '018d51be-9bf4-44db-acb3-79ad5a36150d', 'status': 'initializing', 'message': 'OK or error', 'data': {}}\n",
      "{'crawl_id': '4343ae57-118d-4ba9-9355-81fefa4fd6f7', 'status': 'initializing', 'message': 'OK or error', 'data': {}}\n",
      "{'crawl_id': '018d51be-9bf4-44db-acb3-79ad5a36150d', 'status': 'initializing', 'message': 'OK or error', 'data': {}}\n",
      "{'crawl_id': '4343ae57-118d-4ba9-9355-81fefa4fd6f7', 'status': 'initializing', 'message': 'OK or error', 'data': {}}\n",
      "{'crawl_id': '018d51be-9bf4-44db-acb3-79ad5a36150d', 'status': 'initializing', 'message': 'OK or error', 'data': {}}\n",
      "{'crawl_id': '4343ae57-118d-4ba9-9355-81fefa4fd6f7', 'status': 'initializing', 'message': 'OK or error', 'data': {}}\n",
      "{'crawl_id': '018d51be-9bf4-44db-acb3-79ad5a36150d', 'status': 'initializing', 'message': 'OK or error', 'data': {}}\n",
      "{'crawl_id': '4343ae57-118d-4ba9-9355-81fefa4fd6f7', 'status': 'initializing', 'message': 'OK or error', 'data': {}}\n",
      "{'crawl_id': '018d51be-9bf4-44db-acb3-79ad5a36150d', 'status': 'initializing', 'message': 'OK or error', 'data': {}}\n",
      "{'crawl_id': '4343ae57-118d-4ba9-9355-81fefa4fd6f7', 'status': 'initializing', 'message': 'OK or error', 'data': {}}\n",
      "{'crawl_id': '018d51be-9bf4-44db-acb3-79ad5a36150d', 'status': 'initializing', 'message': 'OK or error', 'data': {}}\n",
      "{'crawl_id': '4343ae57-118d-4ba9-9355-81fefa4fd6f7', 'status': 'initializing', 'message': 'OK or error', 'data': {}}\n",
      "{'crawl_id': '018d51be-9bf4-44db-acb3-79ad5a36150d', 'status': 'initializing', 'message': 'OK or error', 'data': {}}\n",
      "{'crawl_id': '4343ae57-118d-4ba9-9355-81fefa4fd6f7', 'status': 'initializing', 'message': 'OK or error', 'data': {}}\n",
      "{'crawl_id': '018d51be-9bf4-44db-acb3-79ad5a36150d', 'status': 'initializing', 'message': 'OK or error', 'data': {}}\n",
      "{'crawl_id': '4343ae57-118d-4ba9-9355-81fefa4fd6f7', 'status': 'initializing', 'message': 'OK or error', 'data': {}}\n",
      "{'crawl_id': '018d51be-9bf4-44db-acb3-79ad5a36150d', 'status': 'initializing', 'message': 'OK or error', 'data': {}}\n",
      "{'crawl_id': '4343ae57-118d-4ba9-9355-81fefa4fd6f7', 'status': 'initializing', 'message': 'OK or error', 'data': {}}\n",
      "{'crawl_id': '018d51be-9bf4-44db-acb3-79ad5a36150d', 'status': 'initializing', 'message': 'OK or error', 'data': {}}\n",
      "{'crawl_id': '4343ae57-118d-4ba9-9355-81fefa4fd6f7', 'status': 'initializing', 'message': 'OK or error', 'data': {}}\n",
      "{'crawl_id': '018d51be-9bf4-44db-acb3-79ad5a36150d', 'status': 'initializing', 'message': 'OK or error', 'data': {}}\n",
      "{'crawl_id': '4343ae57-118d-4ba9-9355-81fefa4fd6f7', 'status': 'initializing', 'message': 'OK or error', 'data': {}}\n",
      "{'crawl_id': '018d51be-9bf4-44db-acb3-79ad5a36150d', 'status': 'initializing', 'message': 'OK or error', 'data': {}}\n",
      "{'crawl_id': '4343ae57-118d-4ba9-9355-81fefa4fd6f7', 'status': 'initializing', 'message': 'OK or error', 'data': {}}\n",
      "{'crawl_id': '018d51be-9bf4-44db-acb3-79ad5a36150d', 'status': 'initializing', 'message': 'OK or error', 'data': {}}\n",
      "{'crawl_id': '4343ae57-118d-4ba9-9355-81fefa4fd6f7', 'status': 'initializing', 'message': 'OK or error', 'data': {}}\n",
      "{'crawl_id': '018d51be-9bf4-44db-acb3-79ad5a36150d', 'status': 'initializing', 'message': 'OK or error', 'data': {}}\n",
      "{'crawl_id': '4343ae57-118d-4ba9-9355-81fefa4fd6f7', 'status': 'initializing', 'message': 'OK or error', 'data': {}}\n",
      "{'crawl_id': '018d51be-9bf4-44db-acb3-79ad5a36150d', 'status': 'initializing', 'message': 'OK or error', 'data': {}}\n",
      "{'crawl_id': '4343ae57-118d-4ba9-9355-81fefa4fd6f7', 'status': 'initializing', 'message': 'OK or error', 'data': {}}\n",
      "{'crawl_id': '018d51be-9bf4-44db-acb3-79ad5a36150d', 'status': 'initializing', 'message': 'OK or error', 'data': {}}\n",
      "{'crawl_id': '4343ae57-118d-4ba9-9355-81fefa4fd6f7', 'status': 'initializing', 'message': 'OK or error', 'data': {}}\n",
      "{'crawl_id': '018d51be-9bf4-44db-acb3-79ad5a36150d', 'status': 'initializing', 'message': 'OK or error', 'data': {}}\n",
      "{'crawl_id': '4343ae57-118d-4ba9-9355-81fefa4fd6f7', 'status': 'initializing', 'message': 'OK or error', 'data': {}}\n",
      "{'crawl_id': '018d51be-9bf4-44db-acb3-79ad5a36150d', 'status': 'initializing', 'message': 'OK or error', 'data': {}}\n"
     ]
    },
    {
     "ename": "KeyboardInterrupt",
     "evalue": "",
     "output_type": "error",
     "traceback": [
      "\u001b[0;31m---------------------------------------------------------------------------\u001b[0m",
      "\u001b[0;31mKeyboardInterrupt\u001b[0m                         Traceback (most recent call last)",
      "\u001b[0;32m/var/folders/sp/wl4h63fd4j7czrdbxzpcwk7c0000gn/T/ipykernel_73747/1818625590.py\u001b[0m in \u001b[0;36m<module>\u001b[0;34m\u001b[0m\n\u001b[1;32m     11\u001b[0m         \u001b[0;32mbreak\u001b[0m\u001b[0;34m\u001b[0m\u001b[0;34m\u001b[0m\u001b[0m\n\u001b[1;32m     12\u001b[0m \u001b[0;34m\u001b[0m\u001b[0m\n\u001b[0;32m---> 13\u001b[0;31m     \u001b[0mtime\u001b[0m\u001b[0;34m.\u001b[0m\u001b[0msleep\u001b[0m\u001b[0;34m(\u001b[0m\u001b[0;36m2\u001b[0m\u001b[0;34m)\u001b[0m\u001b[0;34m\u001b[0m\u001b[0;34m\u001b[0m\u001b[0m\n\u001b[0m",
      "\u001b[0;31mKeyboardInterrupt\u001b[0m: "
     ]
    }
   ],
   "source": [
    "import time\n",
    "\n",
    "while True:\n",
    "\n",
    "    crawl_statuses = xtr.get_crawl_status(crawl_ids=None)\n",
    "    for resp in crawl_statuses:\n",
    "        print(resp)\n",
    "\n",
    "    sub_statuses = [d['status'] for d in crawl_statuses]\n",
    "    if all(s == 'complete' for s in sub_statuses):\n",
    "        break\n",
    "\n",
    "    time.sleep(2)"
   ]
  },
  {
   "cell_type": "code",
   "execution_count": null,
   "id": "d0f5900d",
   "metadata": {},
   "outputs": [],
   "source": []
  }
 ],
 "metadata": {
  "kernelspec": {
   "display_name": "11-13-hg",
   "language": "python",
   "name": "11-13-hg"
  },
  "language_info": {
   "codemirror_mode": {
    "name": "ipython",
    "version": 3
   },
   "file_extension": ".py",
   "mimetype": "text/x-python",
   "name": "python",
   "nbconvert_exporter": "python",
   "pygments_lexer": "ipython3",
   "version": "3.9.5"
  }
 },
 "nbformat": 4,
 "nbformat_minor": 5
}
