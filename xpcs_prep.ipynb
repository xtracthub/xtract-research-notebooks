{
 "cells": [
  {
   "cell_type": "code",
   "execution_count": 1,
   "metadata": {},
   "outputs": [],
   "source": [
    "import pandas as pd\n",
    "import numpy as np\n",
    "import matplotlib.pyplot as plt"
   ]
  },
  {
   "cell_type": "code",
   "execution_count": 5,
   "metadata": {},
   "outputs": [],
   "source": [
    "data_path = \"/Users/tylerskluzacek/Desktop/xpcs_crawl_info.csv\"\n",
    "data = pd.read_csv(data_path)"
   ]
  },
  {
   "cell_type": "code",
   "execution_count": 6,
   "metadata": {},
   "outputs": [
    {
     "name": "stdout",
     "output_type": "stream",
     "text": [
      "<bound method NDFrame.head of                                              petrel_path  crawl_timestamp  \\\n",
      "0      /XPCSDATA/2021-1/jaeger202102/A004_test1_025C_...     1.627487e+09   \n",
      "1      /XPCSDATA/2021-1/jaeger202102/A000_test1_025C_...     1.627487e+09   \n",
      "2      /XPCSDATA/2021-1/jaeger202102/A003_test1_025C_...     1.627487e+09   \n",
      "3                  /XPCSDATA/2021-1/leheny202101/tmp.txt     1.627487e+09   \n",
      "4      /XPCSDATA/2021-1/jaeger202102/A005_test1_025C_...     1.627487e+09   \n",
      "...                                                  ...              ...   \n",
      "68543  /XPCSDATA/2021-1/leheny202101/cluster_results_...     1.627488e+09   \n",
      "68544  /XPCSDATA/2021-1/leheny202101/cluster_results_...     1.627488e+09   \n",
      "68545  /XPCSDATA/2021-1/leheny202101/cluster_results_...     1.627488e+09   \n",
      "68546  /XPCSDATA/2021-1/leheny202101/cluster_results_...     1.627488e+09   \n",
      "68547  /XPCSDATA/2021-1/leheny202101/cluster_results_...     1.627488e+09   \n",
      "\n",
      "            size  \n",
      "0          42264  \n",
      "1      160681600  \n",
      "2          42264  \n",
      "3            215  \n",
      "4           3449  \n",
      "...          ...  \n",
      "68543        922  \n",
      "68544        922  \n",
      "68545        922  \n",
      "68546        922  \n",
      "68547        921  \n",
      "\n",
      "[68548 rows x 3 columns]>\n"
     ]
    }
   ],
   "source": [
    "print(data.head)"
   ]
  },
  {
   "cell_type": "code",
   "execution_count": 8,
   "metadata": {},
   "outputs": [
    {
     "name": "stdout",
     "output_type": "stream",
     "text": [
      "16068160000\n"
     ]
    }
   ],
   "source": [
    "print(max(data[\"size\"]))"
   ]
  },
  {
   "cell_type": "code",
   "execution_count": 12,
   "metadata": {},
   "outputs": [],
   "source": [
    "hdf_data = data[data['petrel_path'].str.contains(\".hdf\")]"
   ]
  },
  {
   "cell_type": "code",
   "execution_count": 13,
   "metadata": {},
   "outputs": [
    {
     "name": "stdout",
     "output_type": "stream",
     "text": [
      "                                             petrel_path  crawl_timestamp  \\\n",
      "0      /XPCSDATA/2021-1/jaeger202102/A004_test1_025C_...     1.627487e+09   \n",
      "2      /XPCSDATA/2021-1/jaeger202102/A003_test1_025C_...     1.627487e+09   \n",
      "5      /XPCSDATA/2021-1/jaeger202102/A017_test1_025C_...     1.627487e+09   \n",
      "8      /XPCSDATA/2021-1/jaeger202102/A020_test1_025C_...     1.627487e+09   \n",
      "9      /XPCSDATA/2021-1/jaeger202102/A021_test1_025C_...     1.627487e+09   \n",
      "...                                                  ...              ...   \n",
      "50041  /XPCSDATA/2021-1/leheny202101/cluster_results_...     1.627488e+09   \n",
      "50042  /XPCSDATA/2021-1/leheny202101/cluster_results_...     1.627488e+09   \n",
      "50043  /XPCSDATA/2021-1/leheny202101/cluster_results_...     1.627488e+09   \n",
      "50047  /XPCSDATA/2021-1/leheny202101/cluster_results_...     1.627488e+09   \n",
      "50049  /XPCSDATA/2021-1/leheny202101/cluster_results_...     1.627488e+09   \n",
      "\n",
      "           size  \n",
      "0         42264  \n",
      "2         42264  \n",
      "5         42264  \n",
      "8         43040  \n",
      "9         43040  \n",
      "...         ...  \n",
      "50041  10919672  \n",
      "50042  10919672  \n",
      "50043  10919672  \n",
      "50047  10919672  \n",
      "50049  10919672  \n",
      "\n",
      "[23074 rows x 3 columns]\n"
     ]
    }
   ],
   "source": [
    "print(hdf_data)"
   ]
  },
  {
   "cell_type": "code",
   "execution_count": 15,
   "metadata": {},
   "outputs": [
    {
     "name": "stdout",
     "output_type": "stream",
     "text": [
      "170830353023\n"
     ]
    }
   ],
   "source": [
    "total_gb = data2['size'].sum()\n",
    "print(total_gb)"
   ]
  },
  {
   "cell_type": "code",
   "execution_count": null,
   "metadata": {},
   "outputs": [],
   "source": []
  }
 ],
 "metadata": {
  "kernelspec": {
   "display_name": "tyler_graphing",
   "language": "python",
   "name": "tyler_graphing"
  },
  "language_info": {
   "codemirror_mode": {
    "name": "ipython",
    "version": 3
   },
   "file_extension": ".py",
   "mimetype": "text/x-python",
   "name": "python",
   "nbconvert_exporter": "python",
   "pygments_lexer": "ipython3",
   "version": "3.9.1"
  }
 },
 "nbformat": 4,
 "nbformat_minor": 4
}
