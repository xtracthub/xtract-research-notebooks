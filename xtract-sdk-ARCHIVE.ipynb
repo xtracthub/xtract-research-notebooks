{
 "cells": [
  {
   "cell_type": "markdown",
   "id": "8cbe52c2",
   "metadata": {},
   "source": [
    "# Xtract SDK v0.0.7a6"
   ]
  },
  {
   "cell_type": "markdown",
   "id": "a17dc540",
   "metadata": {},
   "source": [
    "## Login: Creating an XtractClient object"
   ]
  },
  {
   "cell_type": "code",
   "execution_count": 179,
   "id": "740cbf43",
   "metadata": {},
   "outputs": [],
   "source": [
    "from xtract_sdk.client import XtractClient"
   ]
  },
  {
   "cell_type": "markdown",
   "id": "0a113db4",
   "metadata": {},
   "source": [
    "First, we import the XtractClient class from the Xtract SDK."
   ]
  },
  {
   "cell_type": "code",
   "execution_count": 180,
   "id": "685ab783",
   "metadata": {},
   "outputs": [],
   "source": [
    "xtr = XtractClient(auth_scopes=[], dev=True, force_login=False)\n",
    "# print(xtr.auths)"
   ]
  },
  {
   "cell_type": "markdown",
   "id": "11401fdf",
   "metadata": {},
   "source": [
    "Here we create an XtractClient object to request tokens from Globus Auth.\n",
    "\n",
    "The **auth_scopes** argument accepts an optional list of strings which correspond to authorization scopes. While additional auth scopes may be added with the **auth_scopes** argument, there are a number of \n",
    "default scopes automatically requested within the system. These are: \n",
    "\n",
    "* **openid**: provides username for identity.\n",
    "* **search**: interact with Globus Search\n",
    "* **petrel**: read or write data on Petrel. Not needed if no data going to Petrel.\n",
    "* **transfer**: needed to crawl the Globus endpoint and transfer metadata to its final location.\n",
    "* **funcx_scope**: needed to orchestrate the metadata extraction at the given funcX endpoint.\n",
    "\n",
    "When true, **force_login** makes you go through the full authorization flow again."
   ]
  },
  {
   "cell_type": "markdown",
   "id": "f68f3587",
   "metadata": {},
   "source": [
    "## Defining endpoints: Creating an XtractEndpoint object\n",
    "Endpoints in Xtract are the computing fabric that enable us to move files and apply extractors to files. To this end, \n",
    "an Xtract endpoint is the combination of the following two software endpoints: \n",
    "* **Globus endpoints** [required] enable us to access all file system metadata about files stored on an endpoint, and enables us to transfer files between machines for more-efficient processing.\n",
    "* **FuncX endpoints** [optional] are capable of remotely receiving extraction functions that can be applied to files on the Globus endpoint. Note that the absence of a funcX endpoint on an Xtract endpoint means that a file must be transferred to an endpoint *with* a valid funcX endpoint in able to have its metadata extracted."
   ]
  },
  {
   "cell_type": "code",
   "execution_count": 181,
   "id": "0d2238be",
   "metadata": {},
   "outputs": [],
   "source": [
    "from xtract_sdk.endpoint import XtractEndpoint"
   ]
  },
  {
   "cell_type": "markdown",
   "id": "b492f054",
   "metadata": {},
   "source": [
    "In order to create an Xtract endpoint, we first import the XtractEndpoint class from the Xtract SDK."
   ]
  },
  {
   "cell_type": "code",
   "execution_count": 182,
   "id": "0ce50969",
   "metadata": {},
   "outputs": [],
   "source": [
    "# xep1 = XtractEndpoint(repo_type=\"GLOBUS\",\n",
    "#                       globus_ep_id='f9959bd2-e98f-11eb-884c-aba19178789c',\n",
    "#                       dirs=['/home/tskluzac/cord-19-test'],\n",
    "#                        #globus_ep_id='24a66214-76eb-11ec-9b64-f9dfb1abb183',\n",
    "#                       # dirs=['/home/tskluzac/demo_files'],\n",
    "#                       grouper='file_is_group',\n",
    "#                       #funcx_ep_id='6b3a1745-5e0e-4c60-82db-0faac6cc246f',\n",
    "#                       funcx_ep_id='e1398319-0d0f-4188-909b-a978f6fc5621',\n",
    "#                       metadata_directory='/home/tskluzac/mdata')\n",
    "\n",
    "xep1 = XtractEndpoint(repo_type=\"GLOBUS\",\n",
    "                      globus_ep_id='08925f04-569f-11e7-bef8-22000b9a448b',\n",
    "                      dirs=['/eagle/Xtract/cdiac-decomp'],\n",
    "                       #globus_ep_id='24a66214-76eb-11ec-9b64-f9dfb1abb183',\n",
    "                      # dirs=['/home/tskluzac/demo_files'],\n",
    "                      grouper='file_is_group',\n",
    "                      #funcx_ep_id='6b3a1745-5e0e-4c60-82db-0faac6cc246f',\n",
    "                      funcx_ep_id='e1398319-0d0f-4188-909b-a978f6fc5621',\n",
    "                      metadata_directory='/home/tskluzac/mdata')"
   ]
  },
  {
   "cell_type": "markdown",
   "id": "7c8195c3",
   "metadata": {},
   "source": [
    "Then we can actually create an endpoint object to be used later in a crawl, xtraction, etc. The arguments are as follow:\n",
    "* **repo_type**: (str) at this point, only Globus is accepted. Google Drive and others will be made available at a later date. \n",
    "* **globus_ep_id**: (uuid str) the Globus endpoint ID.\n",
    "* **dirs**: (list of str) directory paths on Globus endpoint for where the data reside.\n",
    "* **grouper**: (str) grouping strategy for files.\n",
    "* **funcx_ep_id**: (optional uuid str) funcX endpoint ID.\n",
    "* **metadata_directory** (optional str) directory path on Globus endpoint for where xtraction metadata should go."
   ]
  },
  {
   "cell_type": "markdown",
   "id": "71c41daa",
   "metadata": {},
   "source": [
    "## Crawling"
   ]
  },
  {
   "cell_type": "code",
   "execution_count": 171,
   "id": "eec95668",
   "metadata": {},
   "outputs": [
    {
     "data": {
      "text/plain": [
       "['5e4e0c8b-ded3-4f56-8de4-121587006b57']"
      ]
     },
     "execution_count": 171,
     "metadata": {},
     "output_type": "execute_result"
    }
   ],
   "source": [
    "xtr.crawl(endpoints=[xep1])"
   ]
  },
  {
   "cell_type": "markdown",
   "id": "545d1161",
   "metadata": {},
   "source": [
    "Where **endpoints** is a list of XtractEndpoint objects.\n",
    "\n",
    "The crawl ID for each endpoint will be stored in the XtractClient object as a list `xtr.crawl_ids`. Furthermore, each endpoint will be stored in the XtractClient object in a dictionary `cid_to_endpoint_map`, where each crawl id key maps to the corresponding endpoint as a value.\n",
    "\n",
    "Behind the scenes, this will scan a Globus directory breadth-first (using globus_ls), first extracting physical metadata such as path, size, and extension. Next, since the *grouper* we selected is 'file_is_group', the crawler will create a single-file group for every endpoint given. \n",
    "\n",
    "The crawl is **non-blocking**, and the crawl_id here will be used to execute and monitor downstream extraction processes. \n",
    "\n",
    "### Getting Crawl status"
   ]
  },
  {
   "cell_type": "code",
   "execution_count": 178,
   "id": "0752a90d",
   "metadata": {},
   "outputs": [
    {
     "data": {
      "text/plain": [
       "[{'crawl_id': '5e4e0c8b-ded3-4f56-8de4-121587006b57',\n",
       "  'status': 'initializing',\n",
       "  'message': 'OK',\n",
       "  'data': {}}]"
      ]
     },
     "execution_count": 178,
     "metadata": {},
     "output_type": "execute_result"
    }
   ],
   "source": [
    "xtr.get_crawl_status(crawl_ids=None)"
   ]
  },
  {
   "cell_type": "markdown",
   "id": "281147e7",
   "metadata": {},
   "source": [
    "We can get crawl status, seeing how many groups have been identified in the crawl. If `xtr.crawl()` has already been run, then `xtr.get_crawl_status()` will get the status of the IDs stored in `xtr.crawl_ids`. Otherwise, a list of `crawl_ids` may be given to `xtr.get_crawl_status()`.\n",
    "\n",
    "This will return a dictionary resembling: \n",
    "```\n",
    "{‘crawl_id’: String,\n",
    " ‘status’: String, \n",
    " ‘message’: “OK” if everything is fine otherwise describes error,\n",
    " ‘data’: {'bytes_crawled': Integer, ..., 'files_crawled': Integer}}\n",
    "```\n",
    "\n",
    "Note that measuring the total files yet to crawl is impossible, as the BFS may not have discovered all files yet, and Globus does not yet have a file counting feature for all directories and subdirectories. I.e., we know when we're done, but we do not know until we get there. \n",
    "\n",
    "**Warning:** it currently takes up to 30 seconds for a crawl to start. *Why?* Container warming time. \n",
    "\n",
    "### Crawl and wait"
   ]
  },
  {
   "cell_type": "code",
   "execution_count": 83,
   "id": "ca1043ec",
   "metadata": {},
   "outputs": [],
   "source": [
    "# xtr.crawl_and_wait(endpoints=[xep1])"
   ]
  },
  {
   "cell_type": "markdown",
   "id": "636b1308",
   "metadata": {},
   "source": [
    "Where **endpoints** is a list of XtractEndpoint objects.\n",
    "\n",
    "For ease of testing, we've implemented a **crawl_and_wait** functionality, which will crawl the given endpoints and then print the crawl status of all given endpoints every two seconds until all have completed crawling.\n",
    "\n",
    "## Xtract-ing\n",
    "\n",
    "### Registering containers for Xtraction"
   ]
  },
  {
   "cell_type": "code",
   "execution_count": 148,
   "id": "c5845e68",
   "metadata": {},
   "outputs": [
    {
     "data": {
      "text/plain": [
       "'Register containers status (should be 200): 200'"
      ]
     },
     "execution_count": 148,
     "metadata": {},
     "output_type": "execute_result"
    }
   ],
   "source": [
    "import requests\n",
    "# print(xtr.extract_url)\n",
    "# x = requests.get(xtr.extract_url)\n",
    "xtr.register_containers(endpoint=xep1,\n",
    "                        container_path='/home/tskluzac/.xtract/.containers')\n"
   ]
  },
  {
   "cell_type": "markdown",
   "id": "73a4c3aa",
   "metadata": {},
   "source": [
    "Where **endpoint** argument should be an XtractEndpoint object, and **container_path** (str) argument should be the path to the xtraction containers on the Globus endpoint.\n",
    "\n",
    "\n",
    "In order to perform an xtraction, we must have the requisite containers for each extractor that is to be used. After creating client and endpoint instances, containers must be registered for each endpoint, using `.register_containers()`. \n",
    "\n",
    "This can be executed regardless of **crawl** completion status.\n",
    "\n",
    "### Xtract"
   ]
  },
  {
   "cell_type": "code",
   "execution_count": 149,
   "id": "e9289351",
   "metadata": {},
   "outputs": [
    {
     "data": {
      "text/plain": [
       "[<Response [200]>]"
      ]
     },
     "execution_count": 149,
     "metadata": {},
     "output_type": "execute_result"
    }
   ],
   "source": [
    "xtr.xtract()"
   ]
  },
  {
   "cell_type": "markdown",
   "id": "06ce24fe",
   "metadata": {},
   "source": [
    "The **crawl** method must have already been run, and an **xtract**ion will be run for each endpoint that was given to **crawl**. **xtract** will return the HTTP status response code, which should be 200.\n",
    "\n",
    "### Getting Xtract status"
   ]
  },
  {
   "cell_type": "code",
   "execution_count": 150,
   "id": "7347e38a",
   "metadata": {},
   "outputs": [
    {
     "name": "stdout",
     "output_type": "stream",
     "text": [
      "[{'xtract_status': 'SCHEDULED', 'xtract_counters': {'cumu_orch_enter': 0, 'cumu_pulled': 5, 'cumu_scheduled': 3, 'cumu_to_schedule': 5, 'flagged_unknown': 0, 'fx': {'failed': 0, 'pending': 0, 'success': 0}}}]\n",
      "[{'xtract_status': 'EXTRACTING', 'xtract_counters': {'cumu_orch_enter': 3, 'cumu_pulled': 5, 'cumu_scheduled': 3, 'cumu_to_schedule': 5, 'flagged_unknown': 0, 'fx': {'failed': 0, 'pending': 0, 'success': 0}}}]\n",
      "[{'xtract_status': 'EXTRACTING', 'xtract_counters': {'cumu_orch_enter': 3, 'cumu_pulled': 5, 'cumu_scheduled': 3, 'cumu_to_schedule': 5, 'flagged_unknown': 0, 'fx': {'failed': 0, 'pending': 0, 'success': 0}}}]\n",
      "[{'xtract_status': 'EXTRACTING', 'xtract_counters': {'cumu_orch_enter': 3, 'cumu_pulled': 5, 'cumu_scheduled': 3, 'cumu_to_schedule': 5, 'flagged_unknown': 0, 'fx': {'failed': 0, 'pending': 0, 'success': 0}}}]\n",
      "[{'xtract_status': 'EXTRACTING', 'xtract_counters': {'cumu_orch_enter': 3, 'cumu_pulled': 5, 'cumu_scheduled': 3, 'cumu_to_schedule': 5, 'flagged_unknown': 0, 'fx': {'failed': 0, 'pending': 0, 'success': 2}}}]\n",
      "[{'xtract_status': 'EXTRACTING', 'xtract_counters': {'cumu_orch_enter': 3, 'cumu_pulled': 5, 'cumu_scheduled': 3, 'cumu_to_schedule': 5, 'flagged_unknown': 0, 'fx': {'failed': 0, 'pending': 0, 'success': 3}}}]\n",
      "[{'xtract_status': 'EXTRACTING', 'xtract_counters': {'cumu_orch_enter': 3, 'cumu_pulled': 5, 'cumu_scheduled': 3, 'cumu_to_schedule': 5, 'flagged_unknown': 0, 'fx': {'failed': 0, 'pending': 0, 'success': 3}}}]\n",
      "[{'xtract_status': 'EXTRACTING', 'xtract_counters': {'cumu_orch_enter': 3, 'cumu_pulled': 5, 'cumu_scheduled': 3, 'cumu_to_schedule': 5, 'flagged_unknown': 0, 'fx': {'failed': 0, 'pending': 0, 'success': 3}}}]\n"
     ]
    },
    {
     "ename": "KeyboardInterrupt",
     "evalue": "",
     "output_type": "error",
     "traceback": [
      "\u001b[0;31m---------------------------------------------------------------------------\u001b[0m",
      "\u001b[0;31mKeyboardInterrupt\u001b[0m                         Traceback (most recent call last)",
      "\u001b[0;32m<ipython-input-150-a39c8e97435a>\u001b[0m in \u001b[0;36m<module>\u001b[0;34m\u001b[0m\n\u001b[1;32m      4\u001b[0m \u001b[0;32mwhile\u001b[0m\u001b[0;34m(\u001b[0m\u001b[0;32mTrue\u001b[0m\u001b[0;34m)\u001b[0m\u001b[0;34m:\u001b[0m\u001b[0;34m\u001b[0m\u001b[0;34m\u001b[0m\u001b[0m\n\u001b[1;32m      5\u001b[0m     \u001b[0mprint\u001b[0m\u001b[0;34m(\u001b[0m\u001b[0mxtr\u001b[0m\u001b[0;34m.\u001b[0m\u001b[0mget_xtract_status\u001b[0m\u001b[0;34m(\u001b[0m\u001b[0;34m)\u001b[0m\u001b[0;34m)\u001b[0m\u001b[0;34m\u001b[0m\u001b[0;34m\u001b[0m\u001b[0m\n\u001b[0;32m----> 6\u001b[0;31m     \u001b[0mtime\u001b[0m\u001b[0;34m.\u001b[0m\u001b[0msleep\u001b[0m\u001b[0;34m(\u001b[0m\u001b[0;36m2\u001b[0m\u001b[0;34m)\u001b[0m\u001b[0;34m\u001b[0m\u001b[0;34m\u001b[0m\u001b[0m\n\u001b[0m",
      "\u001b[0;31mKeyboardInterrupt\u001b[0m: "
     ]
    }
   ],
   "source": [
    "xtr.get_xtract_status()\n",
    "\n",
    "import time\n",
    "while(True):\n",
    "    print(xtr.get_xtract_status())\n",
    "    time.sleep(2)"
   ]
  },
  {
   "cell_type": "code",
   "execution_count": null,
   "id": "88ac5b3b",
   "metadata": {},
   "outputs": [],
   "source": []
  },
  {
   "cell_type": "markdown",
   "id": "2bfc2804",
   "metadata": {},
   "source": [
    "The **xtract** method must have already been run, and this call will return a list of **xtract statuses**, one for each endpoint given to **crawl**.\n",
    "\n",
    "This will return a dictionary resembling:\n",
    "\n",
    "```\n",
    "{'xtract_status': String,\n",
    " 'xtract_counters': {'cumu_orch_enter': Integer, \n",
    "                     'cumu_pulled': Integer, \n",
    "                     'cumu_scheduled': Integer, \n",
    "                     'cumu_to_schedule': Integer, \n",
    "                     'flagged_unknown': Integer, \n",
    "                     'fx': {'failed': Integer, \n",
    "                            'pending': Integer, \n",
    "                            'success': Integer}}\n",
    "```\n",
    "\n",
    "## Offload metadata"
   ]
  },
  {
   "cell_type": "code",
   "execution_count": null,
   "id": "7f03d6ed",
   "metadata": {},
   "outputs": [],
   "source": [
    "xtr.offload_metadata(dest_ep_id='0caf6e8e-4974-11ec-a515-b537d6c07c1d',\n",
    "                     dest_path='Desktop/mdata/',\n",
    "                     timeout=600,\n",
    "                     delete_source=False)"
   ]
  },
  {
   "cell_type": "markdown",
   "id": "befe2a40",
   "metadata": {},
   "source": [
    "The **offload_metadata** method can be used to transfer files between two endpoints, and is included in this SDK for the purpose of transferring metadata from **xtract**ion. It takes the following arguments:\n",
    "* **dest_ep_id**: (str) the ID of the endpoint to which the files are being transferred.\n",
    "* **dest_path**: (optional str) the path on the destination endpoint where the files should go\n",
    "* **timeout**: (optional int, default 600) how long the transfer should wait until giving up if unsuccessful\n",
    "* **delete_source**: (optional boolean, default False) set to True if the source files should be deleted after metadata completion\n",
    "\n",
    "This method will transfer the metadata to a new folder (in the destination path, if supplied) which is named in the convention **YYYY-MM-DD-hh:mm:ss**. Calling the function will return the path to this folder on the destination endpoint.\n",
    "\n",
    "## Search: coming soon! \n",
    "\n",
    "## Downloaders: coming soon! "
   ]
  }
 ],
 "metadata": {
  "kernelspec": {
   "display_name": "jupyter_primary",
   "language": "python",
   "name": "jupyter_primary"
  },
  "language_info": {
   "codemirror_mode": {
    "name": "ipython",
    "version": 3
   },
   "file_extension": ".py",
   "mimetype": "text/x-python",
   "name": "python",
   "nbconvert_exporter": "python",
   "pygments_lexer": "ipython3",
   "version": "3.8.12"
  }
 },
 "nbformat": 4,
 "nbformat_minor": 5
}
